{
  "nbformat": 4,
  "nbformat_minor": 0,
  "metadata": {
    "colab": {
      "provenance": []
    },
    "kernelspec": {
      "name": "python3",
      "display_name": "Python 3"
    },
    "language_info": {
      "name": "python"
    }
  },
  "cells": [
    {
      "cell_type": "code",
      "source": [
        "import numpy as np\n",
        "import cv2\n",
        "from keras.models import Sequential\n",
        "from keras.layers import Conv2D, MaxPooling2D, Flatten, Dense\n",
        "from keras.preprocessing.image import ImageDataGenerator\n",
        "from google.colab import drive\n",
        "drive.mount('/content/gdrive')"
      ],
      "metadata": {
        "colab": {
          "base_uri": "https://localhost:8080/"
        },
        "id": "Delvci9f3Y2O",
        "outputId": "b0ba7460-4a22-4a0f-f0b2-edf662468ed7"
      },
      "execution_count": null,
      "outputs": [
        {
          "output_type": "stream",
          "name": "stdout",
          "text": [
            "Drive already mounted at /content/gdrive; to attempt to forcibly remount, call drive.mount(\"/content/gdrive\", force_remount=True).\n"
          ]
        }
      ]
    },
    {
      "cell_type": "code",
      "source": [
        "# Load the image using OpenCV\n",
        "img = cv2.imread('/content/gdrive/MyDrive/Test_set/Ripness tommato/36.jpg')\n",
        "# Check if the image was loaded successfully\n",
        "if img is None:\n",
        "    print(\"Image load failed!\")\n",
        "else:\n",
        "    # Resize the image to the expected input size (e.g., 64x64)\n",
        "    img = cv2.resize(img, (64, 64))\n",
        "\n",
        "    # Normalize pixel values to the range [0, 1]\n",
        "    img = img / 255.0\n",
        "\n",
        "    # Create a Sequential model for ripeness classification\n",
        "    classifier = Sequential()\n",
        "\n",
        "    # Add Convolutional layers\n",
        "    classifier.add(Conv2D(32, (3, 3), input_shape=(64, 64, 3), activation='relu'))\n",
        "    classifier.add(MaxPooling2D(pool_size=(2, 2)))\n",
        "    classifier.add(Conv2D(32, (3, 3), activation='relu'))\n",
        "    classifier.add(MaxPooling2D(pool_size=(2, 2)))\n",
        "\n",
        "    # Flatten the feature maps\n",
        "    classifier.add(Flatten())\n",
        "\n",
        "    # Add Fully Connected layers\n",
        "    classifier.add(Dense(units=128, activation='relu'))\n",
        "    classifier.add(Dense(units=1, activation='sigmoid'))\n",
        "\n",
        "    # Compile the model\n",
        "    classifier.compile(optimizer='adam', loss='binary_crossentropy', metrics=['accuracy'])\n",
        "\n",
        "    # Assuming you have a dataset with labeled tomato images\n",
        "    # You should have two subdirectories, e.g., 'ripe' and 'unripe', each containing respective images\n",
        "    train_datagen = ImageDataGenerator(\n",
        "        rescale=1./255,\n",
        "        shear_range=0.2,\n",
        "        zoom_range=0.2,\n",
        "        horizontal_flip=True)\n",
        "\n",
        "    training_set = train_datagen.flow_from_directory(\n",
        "        '/content/gdrive/MyDrive/Training_set',\n",
        "        target_size=(64, 64),\n",
        "        batch_size=32,\n",
        "        class_mode='binary')\n",
        "\n",
        "    # Train the model\n",
        "    classifier.fit_generator(\n",
        "        training_set,\n",
        "        steps_per_epoch=len(training_set),\n",
        "        epochs=10)  # You may adjust the number of epochs\n",
        "\n",
        "    # Make a prediction using the preprocessed image\n",
        "    ripeness_prediction = classifier.predict(np.expand_dims(img, axis=0))[0][0]\n",
        "\n",
        "    print(\"Ripeness Prediction:\", ripeness_prediction)"
      ],
      "metadata": {
        "colab": {
          "base_uri": "https://localhost:8080/"
        },
        "id": "kkYvIXOA7OEo",
        "outputId": "eb026f09-3242-48b3-d537-5f27a0c8dbb8"
      },
      "execution_count": null,
      "outputs": [
        {
          "output_type": "stream",
          "name": "stdout",
          "text": [
            "Found 56 images belonging to 2 classes.\n",
            "Epoch 1/10\n"
          ]
        },
        {
          "output_type": "stream",
          "name": "stderr",
          "text": [
            "<ipython-input-149-f722e1b4c330>:47: UserWarning: `Model.fit_generator` is deprecated and will be removed in a future version. Please use `Model.fit`, which supports generators.\n",
            "  classifier.fit_generator(\n"
          ]
        },
        {
          "output_type": "stream",
          "name": "stdout",
          "text": [
            "2/2 [==============================] - 2s 109ms/step - loss: 0.6348 - accuracy: 0.4464\n",
            "Epoch 2/10\n",
            "2/2 [==============================] - 0s 82ms/step - loss: 0.3356 - accuracy: 0.9107\n",
            "Epoch 3/10\n",
            "2/2 [==============================] - 0s 131ms/step - loss: 0.0981 - accuracy: 1.0000\n",
            "Epoch 4/10\n",
            "2/2 [==============================] - 0s 81ms/step - loss: 0.0157 - accuracy: 1.0000\n",
            "Epoch 5/10\n",
            "2/2 [==============================] - 0s 79ms/step - loss: 0.0074 - accuracy: 1.0000\n",
            "Epoch 6/10\n",
            "2/2 [==============================] - 0s 62ms/step - loss: 0.0034 - accuracy: 1.0000\n",
            "Epoch 7/10\n",
            "2/2 [==============================] - 0s 125ms/step - loss: 3.8573e-04 - accuracy: 1.0000\n",
            "Epoch 8/10\n",
            "2/2 [==============================] - 0s 82ms/step - loss: 8.5182e-05 - accuracy: 1.0000\n",
            "Epoch 9/10\n",
            "2/2 [==============================] - 0s 73ms/step - loss: 3.2574e-05 - accuracy: 1.0000\n",
            "Epoch 10/10\n",
            "2/2 [==============================] - 0s 121ms/step - loss: 3.6366e-05 - accuracy: 1.0000\n",
            "1/1 [==============================] - 0s 54ms/step\n",
            "Ripeness Prediction: 0.9999485\n"
          ]
        }
      ]
    },
    {
      "cell_type": "code",
      "source": [
        "# Assuming you have a test dataset similar to the training dataset\n",
        "test_datagen = ImageDataGenerator(rescale=1./255)\n",
        "\n",
        "test_set = test_datagen.flow_from_directory(\n",
        "    '/content/gdrive/MyDrive/Test_set',\n",
        "    target_size=(64, 64),\n",
        "    batch_size=32,\n",
        "    class_mode='binary')\n",
        "\n",
        "# Evaluate the model on the test set\n",
        "test_accuracy = classifier.evaluate_generator(test_set, steps=len(test_set))\n",
        "print(\"Test Accuracy:\", test_accuracy[1])\n"
      ],
      "metadata": {
        "colab": {
          "base_uri": "https://localhost:8080/"
        },
        "id": "LHApmWTH7ONO",
        "outputId": "e707cccf-4a12-44a3-c3fe-8748d429175b"
      },
      "execution_count": null,
      "outputs": [
        {
          "output_type": "stream",
          "name": "stdout",
          "text": [
            "Found 16 images belonging to 2 classes.\n"
          ]
        },
        {
          "output_type": "stream",
          "name": "stderr",
          "text": [
            "<ipython-input-150-bca56993a158>:11: UserWarning: `Model.evaluate_generator` is deprecated and will be removed in a future version. Please use `Model.evaluate`, which supports generators.\n",
            "  test_accuracy = classifier.evaluate_generator(test_set, steps=len(test_set))\n",
            "WARNING:tensorflow:6 out of the last 9 calls to <function Model.make_test_function.<locals>.test_function at 0x79b4c21ba710> triggered tf.function retracing. Tracing is expensive and the excessive number of tracings could be due to (1) creating @tf.function repeatedly in a loop, (2) passing tensors with different shapes, (3) passing Python objects instead of tensors. For (1), please define your @tf.function outside of the loop. For (2), @tf.function has reduce_retracing=True option that can avoid unnecessary retracing. For (3), please refer to https://www.tensorflow.org/guide/function#controlling_retracing and https://www.tensorflow.org/api_docs/python/tf/function for  more details.\n"
          ]
        },
        {
          "output_type": "stream",
          "name": "stdout",
          "text": [
            "Test Accuracy: 1.0\n"
          ]
        }
      ]
    },
    {
      "cell_type": "code",
      "source": [
        "import os\n",
        "\n",
        "# Directory containing the random images\n",
        "test_image_directory = '/content/gdrive/MyDrive/Data used for Test the model'\n",
        "\n",
        "# Initialize a list to store predictions\n",
        "predictions = []\n",
        "\n",
        "# Iterate through the images in the directory\n",
        "for filename in os.listdir(test_image_directory):\n",
        "    if filename.endswith(\".jpg\"):\n",
        "        image_path = os.path.join(test_image_directory, filename)\n",
        "\n",
        "        # Preprocess the image\n",
        "        preprocessed_image = preprocess_image(image_path)\n",
        "\n",
        "        if preprocessed_image is not None:\n",
        "            # Make a prediction using the preprocessed image\n",
        "            ripeness_prediction = classifier.predict(np.expand_dims(preprocessed_image, axis=0))[0][0]\n",
        "            predictions.append((filename, ripeness_prediction))\n"
      ],
      "metadata": {
        "colab": {
          "base_uri": "https://localhost:8080/"
        },
        "id": "5eC56DgB9y5S",
        "outputId": "29b1dd63-75ab-44d4-c91e-ed56bdbe2e40"
      },
      "execution_count": null,
      "outputs": [
        {
          "output_type": "stream",
          "name": "stdout",
          "text": [
            "1/1 [==============================] - 0s 21ms/step\n",
            "1/1 [==============================] - 0s 17ms/step\n",
            "1/1 [==============================] - 0s 17ms/step\n",
            "1/1 [==============================] - 0s 19ms/step\n",
            "1/1 [==============================] - 0s 22ms/step\n",
            "1/1 [==============================] - 0s 18ms/step\n",
            "1/1 [==============================] - 0s 18ms/step\n",
            "1/1 [==============================] - 0s 16ms/step\n",
            "1/1 [==============================] - 0s 17ms/step\n"
          ]
        }
      ]
    },
    {
      "cell_type": "code",
      "source": [
        "# Assuming you have loaded and preprocessed the random images and stored predictions in the 'predictions' list\n",
        "# 'predictions' should contain tuples with filename and ripeness prediction\n",
        "\n",
        "# Define ground truth labels (0 for unripe, 1 for ripe) based on your knowledge\n",
        "ground_truth_labels = {\n",
        "    '27.jpg': 1,\n",
        "    '31.jpg': 1,\n",
        "    '34.jpg': 1,\n",
        "    '35.jpg': 1,\n",
        "    'Test.jpg': 1,\n",
        "    'Test1.jpg': 1,\n",
        "    'Test2.jpg': 1,\n",
        "    'Test3.jpg': 0,\n",
        "    'Test14.jpg': 0\n",
        "}\n",
        "\n",
        "# Initialize variables to keep track of correct and total predictions\n",
        "correct_predictions = 0\n",
        "total_predictions = len(predictions)\n",
        "\n",
        "# Compare model's predictions to ground truth labels\n",
        "for filename, ripeness_prediction in predictions:\n",
        "    # Get the ground truth label for this image\n",
        "    ground_truth = ground_truth_labels.get(filename)\n",
        "\n",
        "    if ground_truth is not None:\n",
        "        # Convert the ripeness prediction to a binary label (0 or 1)\n",
        "        predicted_label = 1 if ripeness_prediction >= 0.5 else 0\n",
        "        print(ground_truth)\n",
        "        # Check if the model's prediction matches the ground truth\n",
        "        if predicted_label == ground_truth:\n",
        "            correct_predictions += 1\n",
        "\n",
        "# Calculate accuracy\n",
        "accuracy = correct_predictions / total_predictions\n",
        "\n",
        "# Print the accuracy\n",
        "\n",
        "print(\"Accuracy on Random Images:\", accuracy)\n"
      ],
      "metadata": {
        "colab": {
          "base_uri": "https://localhost:8080/"
        },
        "id": "PnkrrJrh7OQG",
        "outputId": "0aab3763-8a39-477d-d61e-4fd5fc3c2522"
      },
      "execution_count": null,
      "outputs": [
        {
          "output_type": "stream",
          "name": "stdout",
          "text": [
            "1\n",
            "1\n",
            "1\n",
            "1\n",
            "1\n",
            "0\n",
            "1\n",
            "1\n",
            "Accuracy on Random Images: 0.7777777777777778\n"
          ]
        }
      ]
    }
  ]
}